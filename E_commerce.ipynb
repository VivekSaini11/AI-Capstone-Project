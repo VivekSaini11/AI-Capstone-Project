{
  "nbformat": 4,
  "nbformat_minor": 0,
  "metadata": {
    "colab": {
      "name": "E-commerce.ipynb",
      "provenance": [],
      "collapsed_sections": [],
      "authorship_tag": "ABX9TyNJudDejPRGgfnHu+V2KnMM",
      "include_colab_link": true
    },
    "kernelspec": {
      "name": "python3",
      "display_name": "Python 3"
    }
  },
  "cells": [
    {
      "cell_type": "markdown",
      "metadata": {
        "id": "view-in-github",
        "colab_type": "text"
      },
      "source": [
        "<a href=\"https://colab.research.google.com/github/VivekSaini11/AI-Capstone-Project/blob/master/E_commerce.ipynb\" target=\"_parent\"><img src=\"https://colab.research.google.com/assets/colab-badge.svg\" alt=\"Open In Colab\"/></a>"
      ]
    },
    {
      "cell_type": "markdown",
      "metadata": {
        "id": "c63e3XHZqfi9",
        "colab_type": "text"
      },
      "source": [
        "**Problem Statement**\n",
        "\n",
        "Amazon is an online shopping website that now caters to millions of people everywhere. Over 34,000 consumer reviews for Amazon brand products like Kindle, Fire TV Stick and more are provided. \n",
        "The dataset has attributes like brand, categories, primary categories, reviews.title, reviews.text, and the sentiment. Sentiment is a categorical variable with three levels \"Positive\", \"Negative“, and \"Neutral\". For a given unseen data, the sentiment needs to be predicted.\n",
        "You are required to predict Sentiment or Satisfaction of a purchase based on multiple features and review text."
      ]
    },
    {
      "cell_type": "code",
      "metadata": {
        "id": "_MdR1j4yqcke",
        "colab_type": "code",
        "colab": {}
      },
      "source": [
        "import re\n",
        "import numpy as np\n",
        "import pandas as pd\n",
        "from sklearn.feature_extraction.text import TfidfVectorizer\n",
        "from sklearn.naive_bayes import MultinomialNB\n",
        "from imblearn.over_sampling import RandomOverSampler\n",
        "from collections import Counter\n",
        "from xgboost import XGBClassifier\n",
        "from sklearn.ensemble import RandomForestRegressor\n",
        "from sklearn.preprocessing import LabelEncoder\n",
        "from sklearn.metrics import accuracy_score\n",
        "from sklearn.metrics import precision_score\n",
        "from sklearn.metrics import recall_score\n",
        "from sklearn.metrics import f1_score\n",
        "from sklearn.metrics import roc_auc_score\n",
        "from sklearn.metrics import confusion_matrix\n",
        "from sklearn.svm import SVC\n",
        "from sklearn.metrics import confusion_matrix,classification_report\n",
        "from sklearn.model_selection import cross_val_score, GridSearchCV\n",
        "from keras.models import Sequential\n",
        "from keras.layers import Dense, Embedding, LSTM, SpatialDropout1D\n",
        "from sklearn.model_selection import train_test_split\n",
        "from sklearn.feature_extraction.text import CountVectorizer\n",
        "from keras.preprocessing.text import Tokenizer\n",
        "from keras.preprocessing.sequence import pad_sequences\n",
        "from keras.utils.np_utils import to_categorical\n",
        "from sklearn.decomposition import LatentDirichletAllocation\n",
        "from sklearn.decomposition import NMF\n",
        "from sklearn.model_selection import GridSearchCV\n",
        "from sklearn.model_selection import RandomizedSearchCV"
      ],
      "execution_count": 59,
      "outputs": []
    },
    {
      "cell_type": "code",
      "metadata": {
        "id": "b3GC6EctsCGy",
        "colab_type": "code",
        "colab": {
          "base_uri": "https://localhost:8080/",
          "height": 589
        },
        "outputId": "6a4100f1-1846-4bca-f3a7-12c995a8f86b"
      },
      "source": [
        "header_list = [\"name\", \"brand\", \"categories\", \"primaryCategories\", \"reviews.date\", \"reviews.text\", \"reviews.title\", \"sentiment\"]\n",
        "train = pd.read_csv(\"train_data.csv\", names=header_list)\n",
        "train"
      ],
      "execution_count": 9,
      "outputs": [
        {
          "output_type": "execute_result",
          "data": {
            "text/html": [
              "<div>\n",
              "<style scoped>\n",
              "    .dataframe tbody tr th:only-of-type {\n",
              "        vertical-align: middle;\n",
              "    }\n",
              "\n",
              "    .dataframe tbody tr th {\n",
              "        vertical-align: top;\n",
              "    }\n",
              "\n",
              "    .dataframe thead th {\n",
              "        text-align: right;\n",
              "    }\n",
              "</style>\n",
              "<table border=\"1\" class=\"dataframe\">\n",
              "  <thead>\n",
              "    <tr style=\"text-align: right;\">\n",
              "      <th></th>\n",
              "      <th>name</th>\n",
              "      <th>brand</th>\n",
              "      <th>categories</th>\n",
              "      <th>primaryCategories</th>\n",
              "      <th>reviews.date</th>\n",
              "      <th>reviews.text</th>\n",
              "      <th>reviews.title</th>\n",
              "      <th>sentiment</th>\n",
              "    </tr>\n",
              "  </thead>\n",
              "  <tbody>\n",
              "    <tr>\n",
              "      <th>0</th>\n",
              "      <td>name</td>\n",
              "      <td>brand</td>\n",
              "      <td>categories</td>\n",
              "      <td>primaryCategories</td>\n",
              "      <td>reviews.date</td>\n",
              "      <td>reviews.text</td>\n",
              "      <td>reviews.title</td>\n",
              "      <td>sentiment</td>\n",
              "    </tr>\n",
              "    <tr>\n",
              "      <th>1</th>\n",
              "      <td>All-New Fire HD 8 Tablet, 8\" HD Display, Wi-Fi...</td>\n",
              "      <td>Amazon</td>\n",
              "      <td>Electronics,iPad &amp; Tablets,All Tablets,Fire Ta...</td>\n",
              "      <td>Electronics</td>\n",
              "      <td>2016-12-26T00:00:00.000Z</td>\n",
              "      <td>Purchased on Black FridayPros - Great Price (e...</td>\n",
              "      <td>Powerful tablet</td>\n",
              "      <td>Positive</td>\n",
              "    </tr>\n",
              "    <tr>\n",
              "      <th>2</th>\n",
              "      <td>Amazon - Echo Plus w/ Built-In Hub - Silver</td>\n",
              "      <td>Amazon</td>\n",
              "      <td>Amazon Echo,Smart Home,Networking,Home &amp; Tools...</td>\n",
              "      <td>Electronics,Hardware</td>\n",
              "      <td>2018-01-17T00:00:00.000Z</td>\n",
              "      <td>I purchased two Amazon in Echo Plus and two do...</td>\n",
              "      <td>Amazon Echo Plus AWESOME</td>\n",
              "      <td>Positive</td>\n",
              "    </tr>\n",
              "    <tr>\n",
              "      <th>3</th>\n",
              "      <td>Amazon Echo Show Alexa-enabled Bluetooth Speak...</td>\n",
              "      <td>Amazon</td>\n",
              "      <td>Amazon Echo,Virtual Assistant Speakers,Electro...</td>\n",
              "      <td>Electronics,Hardware</td>\n",
              "      <td>2017-12-20T00:00:00.000Z</td>\n",
              "      <td>Just an average Alexa option. Does show a few ...</td>\n",
              "      <td>Average</td>\n",
              "      <td>Neutral</td>\n",
              "    </tr>\n",
              "    <tr>\n",
              "      <th>4</th>\n",
              "      <td>Fire HD 10 Tablet, 10.1 HD Display, Wi-Fi, 16 ...</td>\n",
              "      <td>Amazon</td>\n",
              "      <td>eBook Readers,Fire Tablets,Electronics Feature...</td>\n",
              "      <td>Office Supplies,Electronics</td>\n",
              "      <td>2017-08-04T00:00:00.000Z</td>\n",
              "      <td>very good product. Exactly what I wanted, and ...</td>\n",
              "      <td>Greattttttt</td>\n",
              "      <td>Positive</td>\n",
              "    </tr>\n",
              "    <tr>\n",
              "      <th>...</th>\n",
              "      <td>...</td>\n",
              "      <td>...</td>\n",
              "      <td>...</td>\n",
              "      <td>...</td>\n",
              "      <td>...</td>\n",
              "      <td>...</td>\n",
              "      <td>...</td>\n",
              "      <td>...</td>\n",
              "    </tr>\n",
              "    <tr>\n",
              "      <th>3996</th>\n",
              "      <td>Amazon - Echo Plus w/ Built-In Hub - Silver</td>\n",
              "      <td>Amazon</td>\n",
              "      <td>Amazon Echo,Smart Home,Networking,Home &amp; Tools...</td>\n",
              "      <td>Electronics,Hardware</td>\n",
              "      <td>2017-12-08T00:00:00.000Z</td>\n",
              "      <td>It‚Äôs fun for the family to play with, but it...</td>\n",
              "      <td>Fun toy</td>\n",
              "      <td>Positive</td>\n",
              "    </tr>\n",
              "    <tr>\n",
              "      <th>3997</th>\n",
              "      <td>Amazon Kindle E-Reader 6\" Wifi (8th Generation...</td>\n",
              "      <td>Amazon</td>\n",
              "      <td>Computers,Electronics Features,Tablets,Electro...</td>\n",
              "      <td>Electronics</td>\n",
              "      <td>2017-03-31T00:00:00.000Z</td>\n",
              "      <td>I love the Kindle, it is a great product. It r...</td>\n",
              "      <td>Great Product</td>\n",
              "      <td>Positive</td>\n",
              "    </tr>\n",
              "    <tr>\n",
              "      <th>3998</th>\n",
              "      <td>Amazon Tap - Alexa-Enabled Portable Bluetooth ...</td>\n",
              "      <td>Amazon</td>\n",
              "      <td>Amazon Echo,Home Theater &amp; Audio,MP3 MP4 Playe...</td>\n",
              "      <td>Electronics</td>\n",
              "      <td>2017-01-19T00:00:00.000Z</td>\n",
              "      <td>I was looking for a blutooth speaker to use wi...</td>\n",
              "      <td>Great \"dumb\" speaker</td>\n",
              "      <td>Positive</td>\n",
              "    </tr>\n",
              "    <tr>\n",
              "      <th>3999</th>\n",
              "      <td>Brand New Amazon Kindle Fire 16gb 7\" Ips Displ...</td>\n",
              "      <td>Amazon</td>\n",
              "      <td>Computers/Tablets &amp; Networking,Tablets &amp; eBook...</td>\n",
              "      <td>Electronics</td>\n",
              "      <td>2016-05-27T00:00:00.000Z</td>\n",
              "      <td>This is the second Amazon Fire 7 tablet I have...</td>\n",
              "      <td>A great 7 inch tablet at a great price</td>\n",
              "      <td>Positive</td>\n",
              "    </tr>\n",
              "    <tr>\n",
              "      <th>4000</th>\n",
              "      <td>All-New Fire HD 8 Tablet, 8\" HD Display, Wi-Fi...</td>\n",
              "      <td>Amazon</td>\n",
              "      <td>Electronics,iPad &amp; Tablets,All Tablets,Fire Ta...</td>\n",
              "      <td>Electronics</td>\n",
              "      <td>2016-12-30T00:00:00.000Z</td>\n",
              "      <td>very satisfied with tablet, very fast and effi...</td>\n",
              "      <td>Gets the job done</td>\n",
              "      <td>Positive</td>\n",
              "    </tr>\n",
              "  </tbody>\n",
              "</table>\n",
              "<p>4001 rows × 8 columns</p>\n",
              "</div>"
            ],
            "text/plain": [
              "                                                   name  ...  sentiment\n",
              "0                                                  name  ...  sentiment\n",
              "1     All-New Fire HD 8 Tablet, 8\" HD Display, Wi-Fi...  ...   Positive\n",
              "2           Amazon - Echo Plus w/ Built-In Hub - Silver  ...   Positive\n",
              "3     Amazon Echo Show Alexa-enabled Bluetooth Speak...  ...    Neutral\n",
              "4     Fire HD 10 Tablet, 10.1 HD Display, Wi-Fi, 16 ...  ...   Positive\n",
              "...                                                 ...  ...        ...\n",
              "3996        Amazon - Echo Plus w/ Built-In Hub - Silver  ...   Positive\n",
              "3997  Amazon Kindle E-Reader 6\" Wifi (8th Generation...  ...   Positive\n",
              "3998  Amazon Tap - Alexa-Enabled Portable Bluetooth ...  ...   Positive\n",
              "3999  Brand New Amazon Kindle Fire 16gb 7\" Ips Displ...  ...   Positive\n",
              "4000  All-New Fire HD 8 Tablet, 8\" HD Display, Wi-Fi...  ...   Positive\n",
              "\n",
              "[4001 rows x 8 columns]"
            ]
          },
          "metadata": {
            "tags": []
          },
          "execution_count": 9
        }
      ]
    },
    {
      "cell_type": "code",
      "metadata": {
        "id": "wQQ6C5FHraqO",
        "colab_type": "code",
        "colab": {
          "base_uri": "https://localhost:8080/",
          "height": 589
        },
        "outputId": "ceebc5dc-74ca-48e1-b88e-499437ccd250"
      },
      "source": [
        "test = pd.read_csv('test_data.csv') \n",
        "test"
      ],
      "execution_count": 10,
      "outputs": [
        {
          "output_type": "execute_result",
          "data": {
            "text/html": [
              "<div>\n",
              "<style scoped>\n",
              "    .dataframe tbody tr th:only-of-type {\n",
              "        vertical-align: middle;\n",
              "    }\n",
              "\n",
              "    .dataframe tbody tr th {\n",
              "        vertical-align: top;\n",
              "    }\n",
              "\n",
              "    .dataframe thead th {\n",
              "        text-align: right;\n",
              "    }\n",
              "</style>\n",
              "<table border=\"1\" class=\"dataframe\">\n",
              "  <thead>\n",
              "    <tr style=\"text-align: right;\">\n",
              "      <th></th>\n",
              "      <th>name</th>\n",
              "      <th>brand</th>\n",
              "      <th>categories</th>\n",
              "      <th>primaryCategories</th>\n",
              "      <th>reviews.date</th>\n",
              "      <th>reviews.text</th>\n",
              "      <th>reviews.title</th>\n",
              "    </tr>\n",
              "  </thead>\n",
              "  <tbody>\n",
              "    <tr>\n",
              "      <th>0</th>\n",
              "      <td>Fire Tablet, 7 Display, Wi-Fi, 16 GB - Include...</td>\n",
              "      <td>Amazon</td>\n",
              "      <td>Fire Tablets,Computers/Tablets &amp; Networking,Ta...</td>\n",
              "      <td>Electronics</td>\n",
              "      <td>2016-05-23T00:00:00.000Z</td>\n",
              "      <td>Amazon kindle fire has a lot of free app and c...</td>\n",
              "      <td>very handy device</td>\n",
              "    </tr>\n",
              "    <tr>\n",
              "      <th>1</th>\n",
              "      <td>Amazon Echo Show Alexa-enabled Bluetooth Speak...</td>\n",
              "      <td>Amazon</td>\n",
              "      <td>Computers,Amazon Echo,Virtual Assistant Speake...</td>\n",
              "      <td>Electronics,Hardware</td>\n",
              "      <td>2018-01-02T00:00:00.000Z</td>\n",
              "      <td>The Echo Show is a great addition to the Amazo...</td>\n",
              "      <td>Another winner from Amazon</td>\n",
              "    </tr>\n",
              "    <tr>\n",
              "      <th>2</th>\n",
              "      <td>All-New Fire HD 8 Tablet, 8\" HD Display, Wi-Fi...</td>\n",
              "      <td>Amazon</td>\n",
              "      <td>Electronics,iPad &amp; Tablets,All Tablets,Fire Ta...</td>\n",
              "      <td>Electronics</td>\n",
              "      <td>2017-01-02T00:00:00.000Z</td>\n",
              "      <td>Great value from Best Buy. Bought at Christmas...</td>\n",
              "      <td>simple to use and reliable so far</td>\n",
              "    </tr>\n",
              "    <tr>\n",
              "      <th>3</th>\n",
              "      <td>Brand New Amazon Kindle Fire 16gb 7\" Ips Displ...</td>\n",
              "      <td>Amazon</td>\n",
              "      <td>Computers/Tablets &amp; Networking,Tablets &amp; eBook...</td>\n",
              "      <td>Electronics</td>\n",
              "      <td>2017-03-25T00:00:00.000Z</td>\n",
              "      <td>I use mine for email, Facebook ,games and to g...</td>\n",
              "      <td>Love it!!!</td>\n",
              "    </tr>\n",
              "    <tr>\n",
              "      <th>4</th>\n",
              "      <td>Amazon Echo Show Alexa-enabled Bluetooth Speak...</td>\n",
              "      <td>Amazon</td>\n",
              "      <td>Computers,Amazon Echo,Virtual Assistant Speake...</td>\n",
              "      <td>Electronics,Hardware</td>\n",
              "      <td>2017-11-15T00:00:00.000Z</td>\n",
              "      <td>This is a fantastic item &amp; the person I bought...</td>\n",
              "      <td>Fantastic!</td>\n",
              "    </tr>\n",
              "    <tr>\n",
              "      <th>...</th>\n",
              "      <td>...</td>\n",
              "      <td>...</td>\n",
              "      <td>...</td>\n",
              "      <td>...</td>\n",
              "      <td>...</td>\n",
              "      <td>...</td>\n",
              "      <td>...</td>\n",
              "    </tr>\n",
              "    <tr>\n",
              "      <th>995</th>\n",
              "      <td>Amazon Echo Show Alexa-enabled Bluetooth Speak...</td>\n",
              "      <td>Amazon</td>\n",
              "      <td>Computers,Amazon Echo,Virtual Assistant Speake...</td>\n",
              "      <td>Electronics,Hardware</td>\n",
              "      <td>2017-12-07T18:06:07.000Z</td>\n",
              "      <td>We love Alexa! Love being able to watch news b...</td>\n",
              "      <td>Awesome</td>\n",
              "    </tr>\n",
              "    <tr>\n",
              "      <th>996</th>\n",
              "      <td>Amazon Tap - Alexa-Enabled Portable Bluetooth ...</td>\n",
              "      <td>Amazon</td>\n",
              "      <td>Amazon Echo,Home Theater &amp; Audio,MP3 MP4 Playe...</td>\n",
              "      <td>Electronics</td>\n",
              "      <td>2017-01-23T00:00:00.000Z</td>\n",
              "      <td>Speaker is pretty loud and I love that I can t...</td>\n",
              "      <td>Good Bluetooth device</td>\n",
              "    </tr>\n",
              "    <tr>\n",
              "      <th>997</th>\n",
              "      <td>Fire HD 8 Tablet with Alexa, 8\" HD Display, 32...</td>\n",
              "      <td>Amazon</td>\n",
              "      <td>Tablets,Fire Tablets,Computers &amp; Tablets,All T...</td>\n",
              "      <td>Electronics</td>\n",
              "      <td>2017-01-18T00:00:00.000Z</td>\n",
              "      <td>Bought 2 of these for my 6 and 8 yr old and it...</td>\n",
              "      <td>good product for kids</td>\n",
              "    </tr>\n",
              "    <tr>\n",
              "      <th>998</th>\n",
              "      <td>All-New Fire HD 8 Tablet, 8\" HD Display, Wi-Fi...</td>\n",
              "      <td>Amazon</td>\n",
              "      <td>Electronics,iPad &amp; Tablets,All Tablets,Fire Ta...</td>\n",
              "      <td>Electronics</td>\n",
              "      <td>2016-12-12T00:00:00.000Z</td>\n",
              "      <td>Was told by sales person I could come back in ...</td>\n",
              "      <td>Was misled on price match. Item is okay.</td>\n",
              "    </tr>\n",
              "    <tr>\n",
              "      <th>999</th>\n",
              "      <td>Fire Tablet, 7 Display, Wi-Fi, 16 GB - Include...</td>\n",
              "      <td>Amazon</td>\n",
              "      <td>Fire Tablets,Computers/Tablets &amp; Networking,Ta...</td>\n",
              "      <td>Electronics</td>\n",
              "      <td>2017-06-17T00:00:00.000Z</td>\n",
              "      <td>I purchased this as a gift for my mother. Her ...</td>\n",
              "      <td>Great gift</td>\n",
              "    </tr>\n",
              "  </tbody>\n",
              "</table>\n",
              "<p>1000 rows × 7 columns</p>\n",
              "</div>"
            ],
            "text/plain": [
              "                                                  name  ...                             reviews.title\n",
              "0    Fire Tablet, 7 Display, Wi-Fi, 16 GB - Include...  ...                         very handy device\n",
              "1    Amazon Echo Show Alexa-enabled Bluetooth Speak...  ...                Another winner from Amazon\n",
              "2    All-New Fire HD 8 Tablet, 8\" HD Display, Wi-Fi...  ...         simple to use and reliable so far\n",
              "3    Brand New Amazon Kindle Fire 16gb 7\" Ips Displ...  ...                                Love it!!!\n",
              "4    Amazon Echo Show Alexa-enabled Bluetooth Speak...  ...                                Fantastic!\n",
              "..                                                 ...  ...                                       ...\n",
              "995  Amazon Echo Show Alexa-enabled Bluetooth Speak...  ...                                   Awesome\n",
              "996  Amazon Tap - Alexa-Enabled Portable Bluetooth ...  ...                     Good Bluetooth device\n",
              "997  Fire HD 8 Tablet with Alexa, 8\" HD Display, 32...  ...                     good product for kids\n",
              "998  All-New Fire HD 8 Tablet, 8\" HD Display, Wi-Fi...  ...  Was misled on price match. Item is okay.\n",
              "999  Fire Tablet, 7 Display, Wi-Fi, 16 GB - Include...  ...                                Great gift\n",
              "\n",
              "[1000 rows x 7 columns]"
            ]
          },
          "metadata": {
            "tags": []
          },
          "execution_count": 10
        }
      ]
    },
    {
      "cell_type": "code",
      "metadata": {
        "id": "Z6t8BbIeBpYC",
        "colab_type": "code",
        "colab": {
          "base_uri": "https://localhost:8080/",
          "height": 640
        },
        "outputId": "a1349169-6671-44c1-b4e5-56f6075b2cfc"
      },
      "source": [
        "test_hidden = pd.read_csv('test_data_hidden.csv') \n",
        "test_hidden"
      ],
      "execution_count": 11,
      "outputs": [
        {
          "output_type": "execute_result",
          "data": {
            "text/html": [
              "<div>\n",
              "<style scoped>\n",
              "    .dataframe tbody tr th:only-of-type {\n",
              "        vertical-align: middle;\n",
              "    }\n",
              "\n",
              "    .dataframe tbody tr th {\n",
              "        vertical-align: top;\n",
              "    }\n",
              "\n",
              "    .dataframe thead th {\n",
              "        text-align: right;\n",
              "    }\n",
              "</style>\n",
              "<table border=\"1\" class=\"dataframe\">\n",
              "  <thead>\n",
              "    <tr style=\"text-align: right;\">\n",
              "      <th></th>\n",
              "      <th>name</th>\n",
              "      <th>brand</th>\n",
              "      <th>categories</th>\n",
              "      <th>primaryCategories</th>\n",
              "      <th>reviews.date</th>\n",
              "      <th>reviews.text</th>\n",
              "      <th>reviews.title</th>\n",
              "      <th>sentiment</th>\n",
              "    </tr>\n",
              "  </thead>\n",
              "  <tbody>\n",
              "    <tr>\n",
              "      <th>0</th>\n",
              "      <td>Fire Tablet, 7 Display, Wi-Fi, 16 GB - Include...</td>\n",
              "      <td>Amazon</td>\n",
              "      <td>Fire Tablets,Computers/Tablets &amp; Networking,Ta...</td>\n",
              "      <td>Electronics</td>\n",
              "      <td>2016-05-23T00:00:00.000Z</td>\n",
              "      <td>Amazon kindle fire has a lot of free app and c...</td>\n",
              "      <td>very handy device</td>\n",
              "      <td>Positive</td>\n",
              "    </tr>\n",
              "    <tr>\n",
              "      <th>1</th>\n",
              "      <td>Amazon Echo Show Alexa-enabled Bluetooth Speak...</td>\n",
              "      <td>Amazon</td>\n",
              "      <td>Computers,Amazon Echo,Virtual Assistant Speake...</td>\n",
              "      <td>Electronics,Hardware</td>\n",
              "      <td>2018-01-02T00:00:00.000Z</td>\n",
              "      <td>The Echo Show is a great addition to the Amazo...</td>\n",
              "      <td>Another winner from Amazon</td>\n",
              "      <td>Positive</td>\n",
              "    </tr>\n",
              "    <tr>\n",
              "      <th>2</th>\n",
              "      <td>All-New Fire HD 8 Tablet, 8\" HD Display, Wi-Fi...</td>\n",
              "      <td>Amazon</td>\n",
              "      <td>Electronics,iPad &amp; Tablets,All Tablets,Fire Ta...</td>\n",
              "      <td>Electronics</td>\n",
              "      <td>2017-01-02T00:00:00.000Z</td>\n",
              "      <td>Great value from Best Buy. Bought at Christmas...</td>\n",
              "      <td>simple to use and reliable so far</td>\n",
              "      <td>Positive</td>\n",
              "    </tr>\n",
              "    <tr>\n",
              "      <th>3</th>\n",
              "      <td>Brand New Amazon Kindle Fire 16gb 7\" Ips Displ...</td>\n",
              "      <td>Amazon</td>\n",
              "      <td>Computers/Tablets &amp; Networking,Tablets &amp; eBook...</td>\n",
              "      <td>Electronics</td>\n",
              "      <td>2017-03-25T00:00:00.000Z</td>\n",
              "      <td>I use mine for email, Facebook ,games and to g...</td>\n",
              "      <td>Love it!!!</td>\n",
              "      <td>Positive</td>\n",
              "    </tr>\n",
              "    <tr>\n",
              "      <th>4</th>\n",
              "      <td>Amazon Echo Show Alexa-enabled Bluetooth Speak...</td>\n",
              "      <td>Amazon</td>\n",
              "      <td>Computers,Amazon Echo,Virtual Assistant Speake...</td>\n",
              "      <td>Electronics,Hardware</td>\n",
              "      <td>2017-11-15T00:00:00.000Z</td>\n",
              "      <td>This is a fantastic item &amp; the person I bought...</td>\n",
              "      <td>Fantastic!</td>\n",
              "      <td>Positive</td>\n",
              "    </tr>\n",
              "    <tr>\n",
              "      <th>...</th>\n",
              "      <td>...</td>\n",
              "      <td>...</td>\n",
              "      <td>...</td>\n",
              "      <td>...</td>\n",
              "      <td>...</td>\n",
              "      <td>...</td>\n",
              "      <td>...</td>\n",
              "      <td>...</td>\n",
              "    </tr>\n",
              "    <tr>\n",
              "      <th>995</th>\n",
              "      <td>Amazon Echo Show Alexa-enabled Bluetooth Speak...</td>\n",
              "      <td>Amazon</td>\n",
              "      <td>Computers,Amazon Echo,Virtual Assistant Speake...</td>\n",
              "      <td>Electronics,Hardware</td>\n",
              "      <td>2017-12-07T18:06:07.000Z</td>\n",
              "      <td>We love Alexa! Love being able to watch news b...</td>\n",
              "      <td>Awesome</td>\n",
              "      <td>Positive</td>\n",
              "    </tr>\n",
              "    <tr>\n",
              "      <th>996</th>\n",
              "      <td>Amazon Tap - Alexa-Enabled Portable Bluetooth ...</td>\n",
              "      <td>Amazon</td>\n",
              "      <td>Amazon Echo,Home Theater &amp; Audio,MP3 MP4 Playe...</td>\n",
              "      <td>Electronics</td>\n",
              "      <td>2017-01-23T00:00:00.000Z</td>\n",
              "      <td>Speaker is pretty loud and I love that I can t...</td>\n",
              "      <td>Good Bluetooth device</td>\n",
              "      <td>Neutral</td>\n",
              "    </tr>\n",
              "    <tr>\n",
              "      <th>997</th>\n",
              "      <td>Fire HD 8 Tablet with Alexa, 8\" HD Display, 32...</td>\n",
              "      <td>Amazon</td>\n",
              "      <td>Tablets,Fire Tablets,Computers &amp; Tablets,All T...</td>\n",
              "      <td>Electronics</td>\n",
              "      <td>2017-01-18T00:00:00.000Z</td>\n",
              "      <td>Bought 2 of these for my 6 and 8 yr old and it...</td>\n",
              "      <td>good product for kids</td>\n",
              "      <td>Positive</td>\n",
              "    </tr>\n",
              "    <tr>\n",
              "      <th>998</th>\n",
              "      <td>All-New Fire HD 8 Tablet, 8\" HD Display, Wi-Fi...</td>\n",
              "      <td>Amazon</td>\n",
              "      <td>Electronics,iPad &amp; Tablets,All Tablets,Fire Ta...</td>\n",
              "      <td>Electronics</td>\n",
              "      <td>2016-12-12T00:00:00.000Z</td>\n",
              "      <td>Was told by sales person I could come back in ...</td>\n",
              "      <td>Was misled on price match. Item is okay.</td>\n",
              "      <td>Positive</td>\n",
              "    </tr>\n",
              "    <tr>\n",
              "      <th>999</th>\n",
              "      <td>Fire Tablet, 7 Display, Wi-Fi, 16 GB - Include...</td>\n",
              "      <td>Amazon</td>\n",
              "      <td>Fire Tablets,Computers/Tablets &amp; Networking,Ta...</td>\n",
              "      <td>Electronics</td>\n",
              "      <td>2017-06-17T00:00:00.000Z</td>\n",
              "      <td>I purchased this as a gift for my mother. Her ...</td>\n",
              "      <td>Great gift</td>\n",
              "      <td>Positive</td>\n",
              "    </tr>\n",
              "  </tbody>\n",
              "</table>\n",
              "<p>1000 rows × 8 columns</p>\n",
              "</div>"
            ],
            "text/plain": [
              "                                                  name  ... sentiment\n",
              "0    Fire Tablet, 7 Display, Wi-Fi, 16 GB - Include...  ...  Positive\n",
              "1    Amazon Echo Show Alexa-enabled Bluetooth Speak...  ...  Positive\n",
              "2    All-New Fire HD 8 Tablet, 8\" HD Display, Wi-Fi...  ...  Positive\n",
              "3    Brand New Amazon Kindle Fire 16gb 7\" Ips Displ...  ...  Positive\n",
              "4    Amazon Echo Show Alexa-enabled Bluetooth Speak...  ...  Positive\n",
              "..                                                 ...  ...       ...\n",
              "995  Amazon Echo Show Alexa-enabled Bluetooth Speak...  ...  Positive\n",
              "996  Amazon Tap - Alexa-Enabled Portable Bluetooth ...  ...   Neutral\n",
              "997  Fire HD 8 Tablet with Alexa, 8\" HD Display, 32...  ...  Positive\n",
              "998  All-New Fire HD 8 Tablet, 8\" HD Display, Wi-Fi...  ...  Positive\n",
              "999  Fire Tablet, 7 Display, Wi-Fi, 16 GB - Include...  ...  Positive\n",
              "\n",
              "[1000 rows x 8 columns]"
            ]
          },
          "metadata": {
            "tags": []
          },
          "execution_count": 11
        }
      ]
    },
    {
      "cell_type": "markdown",
      "metadata": {
        "id": "VQvQm5Hy0SW2",
        "colab_type": "text"
      },
      "source": [
        "Class Imbalance Problem"
      ]
    },
    {
      "cell_type": "code",
      "metadata": {
        "id": "f2Otads10UaH",
        "colab_type": "code",
        "colab": {
          "base_uri": "https://localhost:8080/",
          "height": 323
        },
        "outputId": "fafd332d-4646-4f37-bd00-fd21936ffa8e"
      },
      "source": [
        "#  See what a positive, negative, and neutral review looks like\n",
        "train['sentiment'].value_counts().plot(kind=\"bar\")"
      ],
      "execution_count": 12,
      "outputs": [
        {
          "output_type": "execute_result",
          "data": {
            "text/plain": [
              "<matplotlib.axes._subplots.AxesSubplot at 0x7fb3ae3ef128>"
            ]
          },
          "metadata": {
            "tags": []
          },
          "execution_count": 12
        },
        {
          "output_type": "display_data",
          "data": {
            "image/png": "[encoded data removed]",
            "text/plain": [
              "<Figure size 432x288 with 1 Axes>"
            ]
          },
          "metadata": {
            "tags": [],
            "needs_background": "light"
          }
        }
      ]
    },
    {
      "cell_type": "code",
      "metadata": {
        "id": "FAe3rroQ0-4A",
        "colab_type": "code",
        "colab": {
          "base_uri": "https://localhost:8080/",
          "height": 102
        },
        "outputId": "cb560733-5944-44b1-e391-66dd9b17283c"
      },
      "source": [
        "# Check the class count for each class. It’s a class imbalance problem.\n",
        "train['sentiment'].value_counts()"
      ],
      "execution_count": 13,
      "outputs": [
        {
          "output_type": "execute_result",
          "data": {
            "text/plain": [
              "Positive     3749\n",
              "Neutral       158\n",
              "Negative       93\n",
              "sentiment       1\n",
              "Name: sentiment, dtype: int64"
            ]
          },
          "metadata": {
            "tags": []
          },
          "execution_count": 13
        }
      ]
    },
    {
      "cell_type": "code",
      "metadata": {
        "id": "tJroKCZl1Gj4",
        "colab_type": "code",
        "colab": {}
      },
      "source": [
        "# Convert the reviews in Tf-Idf score.\n",
        "tfidf = TfidfVectorizer(analyzer='char',ngram_range=(2,3),token_pattern=r'\\w{1,}',max_features=5000)\n",
        "train_tfidf = tfidf.fit_transform(train['reviews.text'])\n",
        "test_tfidf = tfidf.fit_transform(test_hidden['reviews.text'])"
      ],
      "execution_count": 14,
      "outputs": []
    },
    {
      "cell_type": "code",
      "metadata": {
        "id": "ONsayhAS3RSu",
        "colab_type": "code",
        "colab": {
          "base_uri": "https://localhost:8080/",
          "height": 51
        },
        "outputId": "3c9aadba-efee-4198-f9d6-54afe94e5db8"
      },
      "source": [
        "# Run multinomial Naive Bayes classifier. Everything will be classified as positive because of the class imbalance\n",
        "nb = MultinomialNB()\n",
        "%time nb.fit(train_tfidf, train['sentiment'])\n",
        "y_pred_class = nb.predict(test_tfidf)"
      ],
      "execution_count": 15,
      "outputs": [
        {
          "output_type": "stream",
          "text": [
            "CPU times: user 22.7 ms, sys: 0 ns, total: 22.7 ms\n",
            "Wall time: 25.8 ms\n"
          ],
          "name": "stdout"
        }
      ]
    },
    {
      "cell_type": "code",
      "metadata": {
        "id": "8QhI2qG87Q5q",
        "colab_type": "code",
        "colab": {
          "base_uri": "https://localhost:8080/",
          "height": 170
        },
        "outputId": "6025fdfd-4482-455f-abd7-c01f3e53402d"
      },
      "source": [
        "train.isnull().sum()"
      ],
      "execution_count": 16,
      "outputs": [
        {
          "output_type": "execute_result",
          "data": {
            "text/plain": [
              "name                  0\n",
              "brand                 0\n",
              "categories            0\n",
              "primaryCategories     0\n",
              "reviews.date          0\n",
              "reviews.text          0\n",
              "reviews.title        10\n",
              "sentiment             0\n",
              "dtype: int64"
            ]
          },
          "metadata": {
            "tags": []
          },
          "execution_count": 16
        }
      ]
    },
    {
      "cell_type": "code",
      "metadata": {
        "id": "AEwGJ9uq7Wpl",
        "colab_type": "code",
        "colab": {}
      },
      "source": [
        "train.dropna(subset = [\"reviews.title\"], inplace=True)"
      ],
      "execution_count": 17,
      "outputs": []
    },
    {
      "cell_type": "markdown",
      "metadata": {
        "id": "FUuTCGkT4WIw",
        "colab_type": "text"
      },
      "source": [
        "Tackling Class Imbalance Problem"
      ]
    },
    {
      "cell_type": "code",
      "metadata": {
        "id": "mwjGIBwH4THi",
        "colab_type": "code",
        "colab": {
          "base_uri": "https://localhost:8080/",
          "height": 105
        },
        "outputId": "10c125cf-8620-4d45-add0-ef7ec499a278"
      },
      "source": [
        "# Oversampling or undersampling can be used to tackle the class imbalance problem. \n",
        "print(Counter(train['sentiment']))\n",
        "oversample = RandomOverSampler(sampling_strategy='minority')\n",
        "X_over, y_over = oversample.fit_resample(train.drop(['sentiment'], axis=1), train['sentiment'])\n",
        "print(Counter(y_over))"
      ],
      "execution_count": 18,
      "outputs": [
        {
          "output_type": "stream",
          "text": [
            "Counter({'Positive': 3739, 'Neutral': 158, 'Negative': 93, 'sentiment': 1})\n",
            "Counter({'sentiment': 3739, 'Positive': 3739, 'Neutral': 158, 'Negative': 93})\n"
          ],
          "name": "stdout"
        },
        {
          "output_type": "stream",
          "text": [
            "/usr/local/lib/python3.6/dist-packages/sklearn/utils/deprecation.py:87: FutureWarning: Function safe_indexing is deprecated; safe_indexing is deprecated in version 0.22 and will be removed in version 0.24.\n",
            "  warnings.warn(msg, category=FutureWarning)\n"
          ],
          "name": "stderr"
        }
      ]
    },
    {
      "cell_type": "code",
      "metadata": {
        "id": "cu1wYQ9o8qn8",
        "colab_type": "code",
        "colab": {}
      },
      "source": [
        "df_train = pd.DataFrame(data=X_over, columns=[\"name\", \"brand\", \"categories\", \"primaryCategories\", \"reviews.date\", \"reviews.text\", \"reviews.title\"])"
      ],
      "execution_count": 19,
      "outputs": []
    },
    {
      "cell_type": "code",
      "metadata": {
        "id": "gVmo48Hp_IMx",
        "colab_type": "code",
        "colab": {
          "base_uri": "https://localhost:8080/",
          "height": 34
        },
        "outputId": "ce8dcf49-98d6-47bf-b142-6ce1d03c2fc5"
      },
      "source": [
        "lb_make = LabelEncoder()\n",
        "y_over= lb_make.fit_transform(y_over)\n",
        "y_over"
      ],
      "execution_count": 20,
      "outputs": [
        {
          "output_type": "execute_result",
          "data": {
            "text/plain": [
              "array([3, 2, 2, ..., 3, 3, 3])"
            ]
          },
          "metadata": {
            "tags": []
          },
          "execution_count": 20
        }
      ]
    },
    {
      "cell_type": "code",
      "metadata": {
        "id": "IAmw3aHXB8rN",
        "colab_type": "code",
        "colab": {
          "base_uri": "https://localhost:8080/",
          "height": 221
        },
        "outputId": "a08acb70-6b11-4db6-84db-9d93681a7219"
      },
      "source": [
        "lb_make = LabelEncoder()\n",
        "test_hidden['sentiment']= lb_make.fit_transform(test_hidden['sentiment'])\n",
        "test_hidden['sentiment']"
      ],
      "execution_count": 21,
      "outputs": [
        {
          "output_type": "execute_result",
          "data": {
            "text/plain": [
              "0      2\n",
              "1      2\n",
              "2      2\n",
              "3      2\n",
              "4      2\n",
              "      ..\n",
              "995    2\n",
              "996    1\n",
              "997    2\n",
              "998    2\n",
              "999    2\n",
              "Name: sentiment, Length: 1000, dtype: int64"
            ]
          },
          "metadata": {
            "tags": []
          },
          "execution_count": 21
        }
      ]
    },
    {
      "cell_type": "code",
      "metadata": {
        "id": "JofXkakU8g9C",
        "colab_type": "code",
        "colab": {}
      },
      "source": [
        "# Convert the reviews in Tf-Idf score.\n",
        "tfidf = TfidfVectorizer(analyzer='char',ngram_range=(2,3),token_pattern=r'\\w{1,}',max_features=5000)\n",
        "train_tfidf = tfidf.fit_transform(df_train['reviews.text'])\n",
        "test_tfidf = tfidf.fit_transform(test_hidden['reviews.text'])"
      ],
      "execution_count": 22,
      "outputs": []
    },
    {
      "cell_type": "code",
      "metadata": {
        "id": "ylegxBoT9jV2",
        "colab_type": "code",
        "colab": {
          "base_uri": "https://localhost:8080/",
          "height": 34
        },
        "outputId": "509eb418-b8ba-43c5-d63b-8b88eeaa7879"
      },
      "source": [
        "# Use Tree-based classifiers like Random Forest and XGBoost.\n",
        "regressor = RandomForestRegressor(n_estimators=20, random_state=0)\n",
        "regressor.fit(train_tfidf, y_over)\n",
        "y_pred_regressor = regressor.predict(test_tfidf)\n",
        "y_pred_regressor[:10]"
      ],
      "execution_count": 23,
      "outputs": [
        {
          "output_type": "execute_result",
          "data": {
            "text/plain": [
              "array([1.35, 1.7 , 1.35, 1.65, 1.95, 1.6 , 1.35, 1.35, 1.45, 1.35])"
            ]
          },
          "metadata": {
            "tags": []
          },
          "execution_count": 23
        }
      ]
    },
    {
      "cell_type": "code",
      "metadata": {
        "id": "g_R0nv6w-5KL",
        "colab_type": "code",
        "colab": {
          "base_uri": "https://localhost:8080/",
          "height": 238
        },
        "outputId": "586d6624-ef1b-4baf-e694-111332fd7281"
      },
      "source": [
        "param_grid = {\n",
        "    'bootstrap': [True],\n",
        "    'max_depth': [80, 90, 100, 110],\n",
        "    'max_features': [2, 3],\n",
        "    'min_samples_leaf': [3, 4, 5],\n",
        "    'min_samples_split': [8, 10, 12],\n",
        "    'n_estimators': [100, 200, 300, 1000]\n",
        "}\n",
        "grid_search = GridSearchCV(estimator = regressor, param_grid = param_grid, cv = 3, n_jobs = -1, verbose = 2)\n",
        "grid_search.fit(train_tfidf, y_over)\n",
        "grid_search.best_params_"
      ],
      "execution_count": 69,
      "outputs": [
        {
          "output_type": "stream",
          "text": [
            "Fitting 3 folds for each of 288 candidates, totalling 864 fits\n"
          ],
          "name": "stdout"
        },
        {
          "output_type": "stream",
          "text": [
            "[Parallel(n_jobs=-1)]: Using backend LokyBackend with 2 concurrent workers.\n",
            "[Parallel(n_jobs=-1)]: Done  37 tasks      | elapsed:   33.4s\n",
            "[Parallel(n_jobs=-1)]: Done 158 tasks      | elapsed:  2.3min\n",
            "[Parallel(n_jobs=-1)]: Done 361 tasks      | elapsed:  5.2min\n",
            "[Parallel(n_jobs=-1)]: Done 644 tasks      | elapsed:  9.3min\n",
            "[Parallel(n_jobs=-1)]: Done 864 out of 864 | elapsed: 12.6min finished\n"
          ],
          "name": "stderr"
        },
        {
          "output_type": "execute_result",
          "data": {
            "text/plain": [
              "{'bootstrap': True,\n",
              " 'max_depth': 80,\n",
              " 'max_features': 3,\n",
              " 'min_samples_leaf': 3,\n",
              " 'min_samples_split': 8,\n",
              " 'n_estimators': 1000}"
            ]
          },
          "metadata": {
            "tags": []
          },
          "execution_count": 69
        }
      ]
    },
    {
      "cell_type": "code",
      "metadata": {
        "id": "i2uduoSV7rS7",
        "colab_type": "code",
        "colab": {
          "base_uri": "https://localhost:8080/",
          "height": 34
        },
        "outputId": "9fb9d89a-a568-4851-c04b-d1610c243aa5"
      },
      "source": [
        "# Use Tree-based classifiers like Random Forest and XGBoost.\n",
        "model = XGBClassifier()\n",
        "model.fit(train_tfidf, y_over)\n",
        "y_pred_xgbost = model.predict(test_tfidf)\n",
        "y_pred_xgbost[:10]"
      ],
      "execution_count": 24,
      "outputs": [
        {
          "output_type": "execute_result",
          "data": {
            "text/plain": [
              "array([2, 2, 2, 2, 2, 2, 2, 2, 2, 2])"
            ]
          },
          "metadata": {
            "tags": []
          },
          "execution_count": 24
        }
      ]
    },
    {
      "cell_type": "code",
      "metadata": {
        "id": "6p40naXy9avF",
        "colab_type": "code",
        "colab": {
          "base_uri": "https://localhost:8080/",
          "height": 85
        },
        "outputId": "cf1e51e3-6cfc-45a7-81e5-340f9f296c70"
      },
      "source": [
        "# precision, recall, F1-score, AUC-ROC curve. Use F1-Score for Xgboost\n",
        "accuracy = accuracy_score(test_hidden['sentiment'], y_pred_xgbost)\n",
        "print('Accuracy: %f' % accuracy)\n",
        "precision = precision_score(test_hidden['sentiment'], y_pred_xgbost, average='micro')\n",
        "print('Precision: %f' % precision)\n",
        "recall = recall_score(test_hidden['sentiment'], y_pred_xgbost, average='micro')\n",
        "print('Recall: %f' % recall)\n",
        "f1 = f1_score(test_hidden['sentiment'], y_pred_xgbost, average='micro')\n",
        "print('F1 score: %f' % f1)"
      ],
      "execution_count": 25,
      "outputs": [
        {
          "output_type": "stream",
          "text": [
            "Accuracy: 0.935000\n",
            "Precision: 0.935000\n",
            "Recall: 0.935000\n",
            "F1 score: 0.935000\n"
          ],
          "name": "stdout"
        }
      ]
    },
    {
      "cell_type": "code",
      "metadata": {
        "id": "aXVuMZYbGS_x",
        "colab_type": "code",
        "colab": {
          "base_uri": "https://localhost:8080/",
          "height": 85
        },
        "outputId": "57157d99-1ac6-4805-dc2f-6eae3b2b3bd5"
      },
      "source": [
        "# precision, recall, F1-score, AUC-ROC curve. Use F1-Score for Random Forest\n",
        "accuracy = accuracy_score(test_hidden['sentiment'], y_pred_regressor.astype('int'))\n",
        "print('Accuracy: %f' % accuracy)\n",
        "precision = precision_score(test_hidden['sentiment'],  y_pred_regressor.astype('int'), average='micro')\n",
        "print('Precision: %f' % precision)\n",
        "recall = recall_score(test_hidden['sentiment'],  y_pred_regressor.astype('int'), average='micro')\n",
        "print('Recall: %f' % recall)\n",
        "f1 = f1_score(test_hidden['sentiment'],  y_pred_regressor.astype('int'), average='micro')\n",
        "print('F1 score: %f' % f1)"
      ],
      "execution_count": 26,
      "outputs": [
        {
          "output_type": "stream",
          "text": [
            "Accuracy: 0.040000\n",
            "Precision: 0.040000\n",
            "Recall: 0.040000\n",
            "F1 score: 0.040000\n"
          ],
          "name": "stdout"
        }
      ]
    },
    {
      "cell_type": "code",
      "metadata": {
        "id": "czLYG_ICsY-f",
        "colab_type": "code",
        "colab": {
          "base_uri": "https://localhost:8080/",
          "height": 34
        },
        "outputId": "0fbc9696-d101-4f33-d1d2-e143248baf18"
      },
      "source": [
        "#Create a svm Classifier\n",
        "clf = SVC(kernel='linear') # Linear Kernel\n",
        "clf.fit(train_tfidf, y_over)\n",
        "y_pred_svm = clf.predict(test_tfidf)\n",
        "y_pred_svm[:10]"
      ],
      "execution_count": 49,
      "outputs": [
        {
          "output_type": "execute_result",
          "data": {
            "text/plain": [
              "array([2, 2, 2, 2, 2, 2, 2, 2, 2, 2])"
            ]
          },
          "metadata": {
            "tags": []
          },
          "execution_count": 49
        }
      ]
    },
    {
      "cell_type": "code",
      "metadata": {
        "id": "blVdRsYQspmC",
        "colab_type": "code",
        "colab": {
          "base_uri": "https://localhost:8080/",
          "height": 85
        },
        "outputId": "0ac5a80a-9fdb-40e3-bbfd-6f2d95280e66"
      },
      "source": [
        "# precision, recall, F1-score, AUC-ROC curve. Use F1-Score for SVM\n",
        "accuracy = accuracy_score(test_hidden['sentiment'], y_pred_svm)\n",
        "print('Accuracy: %f' % accuracy)\n",
        "precision = precision_score(test_hidden['sentiment'],  y_pred_svm, average='micro')\n",
        "print('Precision: %f' % precision)\n",
        "recall = recall_score(test_hidden['sentiment'],  y_pred_svm, average='micro')\n",
        "print('Recall: %f' % recall)\n",
        "f1 = f1_score(test_hidden['sentiment'],  y_pred_svm, average='micro')\n",
        "print('F1 score: %f' % f1)"
      ],
      "execution_count": 50,
      "outputs": [
        {
          "output_type": "stream",
          "text": [
            "Accuracy: 0.937000\n",
            "Precision: 0.937000\n",
            "Recall: 0.937000\n",
            "F1 score: 0.937000\n"
          ],
          "name": "stdout"
        }
      ]
    },
    {
      "cell_type": "code",
      "metadata": {
        "id": "go0mkDFllhnc",
        "colab_type": "code",
        "colab": {
          "base_uri": "https://localhost:8080/",
          "height": 136
        },
        "outputId": "25fa2552-a01f-423a-de3b-98cba3840fbe"
      },
      "source": [
        "# Use LSTM for the previous problem (use parameters of LSTM like top-word, embedding-length, Dropout, epochs, number of layers, etc.)\n",
        "train['reviews.text'] = train['reviews.text'].str.lower()\n",
        "tokenizer = Tokenizer(num_words=1500, split=' ')\n",
        "tokenizer.fit_on_texts(train['reviews.text'].values)\n",
        "X_train = tokenizer.texts_to_sequences(train['reviews.text'])\n",
        "X_train = pad_sequences(X_train)\n",
        "\n",
        "test_hidden['reviews.text'] = test_hidden['reviews.text'].str.lower()\n",
        "tokenizer = Tokenizer(num_words=1500, split=' ')\n",
        "tokenizer.fit_on_texts(test_hidden['reviews.text'].values)\n",
        "X_test = tokenizer.texts_to_sequences(test_hidden['reviews.text'])\n",
        "X_test = pad_sequences(X_test)\n",
        "X_test"
      ],
      "execution_count": 34,
      "outputs": [
        {
          "output_type": "execute_result",
          "data": {
            "text/plain": [
              "array([[   0,    0,    0, ...,   57,  297,  550],\n",
              "       [   0,    0,    0, ...,  103,  122,  485],\n",
              "       [   0,    0,    0, ...,   50,  113,  213],\n",
              "       ...,\n",
              "       [   0,    0,    0, ...,   82,    1,  607],\n",
              "       [   0,    0,    0, ...,  214,    8, 1386],\n",
              "       [   0,    0,    0, ...,   78,    3,  424]], dtype=int32)"
            ]
          },
          "metadata": {
            "tags": []
          },
          "execution_count": 34
        }
      ]
    },
    {
      "cell_type": "code",
      "metadata": {
        "id": "RJCh5jNGo2ti",
        "colab_type": "code",
        "colab": {
          "base_uri": "https://localhost:8080/",
          "height": 799
        },
        "outputId": "6ccfc848-8ed3-4b11-8986-4c431ca0a9d4"
      },
      "source": [
        "Le = LabelEncoder()\n",
        "Y_train = Le.fit_transform(train['sentiment'])\n",
        "y_test = Le.fit_transform(test_hidden['sentiment'])\n",
        "y_test"
      ],
      "execution_count": 35,
      "outputs": [
        {
          "output_type": "execute_result",
          "data": {
            "text/plain": [
              "array([2, 2, 2, 2, 2, 2, 2, 0, 2, 2, 2, 2, 2, 2, 2, 2, 2, 2, 2, 2, 2, 0,\n",
              "       2, 2, 2, 2, 2, 2, 2, 2, 2, 2, 2, 2, 2, 2, 2, 2, 2, 2, 2, 2, 2, 2,\n",
              "       2, 2, 2, 2, 2, 2, 2, 2, 2, 1, 2, 2, 2, 2, 2, 2, 2, 2, 2, 2, 2, 2,\n",
              "       2, 2, 2, 2, 2, 2, 2, 2, 2, 2, 2, 2, 2, 2, 2, 2, 2, 0, 0, 2, 2, 2,\n",
              "       2, 2, 2, 2, 2, 2, 2, 2, 2, 2, 2, 2, 2, 2, 2, 2, 2, 2, 2, 2, 2, 2,\n",
              "       2, 2, 2, 0, 2, 2, 2, 2, 2, 2, 2, 2, 2, 2, 2, 2, 2, 2, 2, 2, 2, 2,\n",
              "       2, 2, 2, 2, 2, 2, 2, 2, 2, 2, 2, 2, 2, 2, 2, 2, 2, 2, 1, 2, 2, 2,\n",
              "       2, 2, 2, 2, 2, 2, 2, 2, 2, 2, 2, 2, 2, 2, 0, 2, 2, 2, 2, 2, 2, 2,\n",
              "       2, 2, 2, 2, 1, 2, 2, 2, 2, 2, 2, 2, 2, 2, 2, 2, 2, 2, 2, 2, 2, 2,\n",
              "       2, 2, 2, 2, 2, 2, 2, 2, 2, 2, 2, 0, 2, 2, 2, 2, 2, 2, 2, 2, 2, 2,\n",
              "       2, 0, 2, 2, 2, 2, 2, 2, 2, 2, 2, 2, 2, 2, 2, 2, 2, 2, 2, 2, 2, 2,\n",
              "       2, 2, 2, 2, 2, 2, 2, 2, 2, 2, 2, 1, 2, 1, 1, 2, 2, 2, 2, 2, 2, 2,\n",
              "       2, 2, 2, 2, 2, 2, 2, 2, 1, 2, 2, 2, 2, 2, 2, 2, 2, 2, 2, 2, 2, 2,\n",
              "       2, 2, 2, 2, 2, 2, 2, 2, 2, 2, 2, 2, 2, 0, 2, 2, 2, 2, 2, 2, 2, 2,\n",
              "       2, 2, 2, 2, 2, 2, 2, 2, 2, 2, 2, 2, 2, 2, 2, 2, 2, 2, 2, 2, 2, 2,\n",
              "       2, 2, 2, 2, 2, 1, 2, 2, 2, 2, 2, 2, 2, 2, 2, 2, 2, 2, 2, 2, 2, 2,\n",
              "       2, 2, 2, 2, 2, 2, 2, 2, 2, 2, 2, 1, 2, 2, 2, 2, 2, 2, 2, 2, 2, 2,\n",
              "       2, 2, 2, 2, 2, 2, 2, 2, 2, 2, 2, 2, 2, 2, 2, 2, 2, 2, 2, 2, 2, 2,\n",
              "       1, 1, 2, 2, 0, 2, 2, 2, 2, 2, 2, 2, 2, 2, 2, 2, 2, 2, 2, 2, 2, 2,\n",
              "       2, 2, 2, 2, 2, 2, 2, 2, 2, 2, 2, 2, 2, 1, 2, 2, 2, 2, 2, 2, 2, 2,\n",
              "       2, 2, 2, 2, 1, 2, 2, 2, 2, 2, 2, 2, 2, 2, 2, 2, 2, 2, 2, 2, 2, 2,\n",
              "       2, 0, 2, 2, 2, 2, 2, 2, 2, 2, 2, 2, 2, 2, 2, 2, 1, 2, 2, 2, 2, 2,\n",
              "       2, 2, 2, 2, 1, 2, 2, 2, 2, 2, 2, 2, 2, 1, 2, 2, 2, 2, 2, 2, 2, 2,\n",
              "       2, 2, 2, 2, 2, 2, 1, 2, 2, 2, 2, 2, 2, 2, 2, 2, 2, 2, 2, 2, 2, 2,\n",
              "       2, 2, 2, 2, 2, 2, 2, 2, 2, 2, 2, 2, 2, 2, 2, 2, 2, 2, 2, 0, 1, 2,\n",
              "       1, 0, 2, 1, 2, 2, 2, 2, 2, 2, 2, 2, 2, 2, 2, 2, 0, 2, 1, 2, 2, 2,\n",
              "       2, 2, 2, 2, 2, 2, 2, 2, 2, 1, 2, 2, 2, 2, 2, 2, 2, 2, 2, 2, 2, 2,\n",
              "       2, 2, 2, 2, 2, 2, 2, 2, 2, 0, 2, 2, 2, 2, 2, 2, 2, 2, 2, 2, 2, 2,\n",
              "       0, 1, 2, 1, 2, 2, 2, 2, 2, 2, 2, 2, 2, 2, 2, 2, 2, 2, 2, 2, 2, 2,\n",
              "       2, 2, 2, 2, 2, 2, 2, 2, 2, 2, 2, 2, 2, 2, 2, 2, 2, 2, 2, 2, 2, 2,\n",
              "       2, 2, 2, 2, 1, 2, 2, 2, 2, 2, 2, 2, 2, 2, 2, 2, 2, 2, 2, 2, 2, 2,\n",
              "       2, 2, 2, 2, 2, 1, 2, 2, 2, 2, 2, 2, 0, 2, 2, 2, 1, 2, 2, 2, 2, 2,\n",
              "       2, 2, 2, 2, 2, 2, 2, 2, 2, 2, 2, 2, 2, 2, 2, 2, 2, 2, 2, 2, 2, 2,\n",
              "       1, 2, 2, 2, 2, 2, 2, 2, 2, 2, 1, 2, 2, 2, 2, 2, 2, 2, 1, 2, 2, 2,\n",
              "       2, 1, 2, 2, 2, 2, 2, 2, 0, 0, 2, 2, 2, 2, 2, 2, 2, 2, 2, 2, 2, 2,\n",
              "       2, 1, 2, 2, 2, 2, 2, 2, 2, 2, 2, 2, 2, 2, 2, 2, 2, 2, 2, 2, 2, 2,\n",
              "       2, 2, 2, 2, 2, 2, 2, 2, 2, 2, 2, 2, 2, 2, 2, 2, 2, 2, 2, 0, 2, 2,\n",
              "       2, 2, 2, 2, 2, 2, 2, 2, 2, 2, 2, 2, 2, 2, 2, 2, 2, 2, 2, 2, 2, 2,\n",
              "       2, 2, 2, 2, 2, 2, 2, 2, 2, 2, 2, 2, 2, 2, 2, 2, 2, 2, 2, 2, 2, 2,\n",
              "       2, 2, 2, 2, 2, 2, 2, 2, 2, 2, 2, 2, 2, 2, 2, 2, 2, 2, 2, 2, 2, 2,\n",
              "       2, 2, 2, 2, 2, 2, 2, 2, 2, 2, 2, 2, 2, 2, 2, 2, 2, 2, 2, 2, 2, 2,\n",
              "       0, 2, 2, 2, 2, 2, 2, 2, 2, 2, 0, 1, 2, 2, 1, 2, 2, 2, 2, 2, 2, 2,\n",
              "       0, 2, 2, 2, 2, 2, 1, 2, 2, 2, 2, 2, 2, 2, 2, 1, 2, 2, 2, 2, 2, 2,\n",
              "       2, 2, 2, 2, 2, 2, 2, 2, 2, 2, 2, 2, 2, 2, 2, 2, 2, 2, 2, 2, 2, 2,\n",
              "       2, 2, 2, 2, 2, 2, 1, 0, 1, 2, 2, 2, 2, 2, 2, 2, 2, 2, 2, 2, 2, 2,\n",
              "       2, 2, 2, 2, 2, 2, 1, 2, 2, 2])"
            ]
          },
          "metadata": {
            "tags": []
          },
          "execution_count": 35
        }
      ]
    },
    {
      "cell_type": "code",
      "metadata": {
        "id": "UBfIixo4oVuJ",
        "colab_type": "code",
        "colab": {
          "base_uri": "https://localhost:8080/",
          "height": 275
        },
        "outputId": "89542622-b200-4ae5-a266-25294573f1ac"
      },
      "source": [
        "embed_dim = 128\n",
        "lstm_out = 196\n",
        "max_fatures = 2000\n",
        "model = Sequential()\n",
        "model.add(Embedding(max_fatures, embed_dim,input_length = X_train.shape[1]))\n",
        "model.add(LSTM(lstm_out, dropout=0.2, recurrent_dropout=0.2))\n",
        "model.add(Dense(2,activation='softmax'))\n",
        "model.compile(loss = 'binary_crossentropy', optimizer='adam',metrics = ['accuracy'])\n",
        "model.fit(X_train, Y_train,validation_data = (X_test,y_test),epochs = 5, batch_size=100)\n",
        "model.evaluate(X_test,y_test)"
      ],
      "execution_count": 44,
      "outputs": [
        {
          "output_type": "stream",
          "text": [
            "Epoch 1/5\n",
            "40/40 [==============================] - ETA: 0s - loss: 0.6932 - accuracy: 0.0303 WARNING:tensorflow:Model was constructed with shape (None, 1444) for input Tensor(\"embedding_6_input:0\", shape=(None, 1444), dtype=float32), but it was called on an input with incompatible shape (100, 1464).\n",
            "40/40 [==============================] - 604s 15s/step - loss: 0.6932 - accuracy: 0.0303 - val_loss: 0.6931 - val_accuracy: 0.0350\n",
            "Epoch 2/5\n",
            "40/40 [==============================] - 605s 15s/step - loss: 0.6931 - accuracy: 0.0298 - val_loss: 0.6931 - val_accuracy: 0.0320\n",
            "Epoch 3/5\n",
            "40/40 [==============================] - 605s 15s/step - loss: 0.6931 - accuracy: 0.0353 - val_loss: 0.6931 - val_accuracy: 0.0390\n",
            "Epoch 4/5\n",
            "40/40 [==============================] - 602s 15s/step - loss: 0.6931 - accuracy: 0.0303 - val_loss: 0.6931 - val_accuracy: 0.0350\n",
            "Epoch 5/5\n",
            "40/40 [==============================] - 602s 15s/step - loss: 0.6931 - accuracy: 0.0323 - val_loss: 0.6931 - val_accuracy: 0.0340\n",
            "WARNING:tensorflow:Model was constructed with shape (None, 1444) for input Tensor(\"embedding_6_input:0\", shape=(None, 1444), dtype=float32), but it was called on an input with incompatible shape (None, 1464).\n",
            "32/32 [==============================] - 30s 940ms/step - loss: 0.6931 - accuracy: 0.0340\n"
          ],
          "name": "stdout"
        },
        {
          "output_type": "execute_result",
          "data": {
            "text/plain": [
              "[0.6931471228599548, 0.03400000184774399]"
            ]
          },
          "metadata": {
            "tags": []
          },
          "execution_count": 44
        }
      ]
    },
    {
      "cell_type": "code",
      "metadata": {
        "id": "SsiaVPkDm7QW",
        "colab_type": "code",
        "colab": {
          "base_uri": "https://localhost:8080/",
          "height": 156
        },
        "outputId": "3c97f37f-50b6-42d1-c04b-1292fca4e779"
      },
      "source": [
        "print(\"Prediction: \",model.predict_classes(X_test[5:10]))\n",
        "print(\"Actual: \\n\",y_test[5:10])"
      ],
      "execution_count": 46,
      "outputs": [
        {
          "output_type": "stream",
          "text": [
            "WARNING:tensorflow:From <ipython-input-46-51df389b7366>:1: Sequential.predict_classes (from tensorflow.python.keras.engine.sequential) is deprecated and will be removed after 2021-01-01.\n",
            "Instructions for updating:\n",
            "Please use instead:* `np.argmax(model.predict(x), axis=-1)`,   if your model does multi-class classification   (e.g. if it uses a `softmax` last-layer activation).* `(model.predict(x) > 0.5).astype(\"int32\")`,   if your model does binary classification   (e.g. if it uses a `sigmoid` last-layer activation).\n",
            "WARNING:tensorflow:Model was constructed with shape (None, 1444) for input Tensor(\"embedding_6_input:0\", shape=(None, 1444), dtype=float32), but it was called on an input with incompatible shape (None, 1464).\n",
            "Prediction:  [0 1 1 1 1]\n",
            "Actual: \n",
            " [2 2 0 2 2]\n"
          ],
          "name": "stdout"
        }
      ]
    },
    {
      "cell_type": "markdown",
      "metadata": {
        "id": "Q9iYZzzq8Ss4",
        "colab_type": "text"
      },
      "source": [
        "Topic Modeling"
      ]
    },
    {
      "cell_type": "code",
      "metadata": {
        "id": "QM5YEm7b357y",
        "colab_type": "code",
        "colab": {
          "base_uri": "https://localhost:8080/",
          "height": 136
        },
        "outputId": "582c0f1d-ee63-459a-d323-0dd79020b2ae"
      },
      "source": [
        "# Use scikit-learn provided Latent Dirchlette Allocation (LDA)\n",
        "cv = CountVectorizer(max_df = 0.95, min_df = 2, stop_words = 'english')\n",
        "df = cv.fit_transform(train['reviews.text'])\n",
        "lda = LatentDirichletAllocation(n_components = 7, random_state = 42)\n",
        "lda.fit(df)"
      ],
      "execution_count": 52,
      "outputs": [
        {
          "output_type": "execute_result",
          "data": {
            "text/plain": [
              "LatentDirichletAllocation(batch_size=128, doc_topic_prior=None,\n",
              "                          evaluate_every=-1, learning_decay=0.7,\n",
              "                          learning_method='batch', learning_offset=10.0,\n",
              "                          max_doc_update_iter=100, max_iter=10,\n",
              "                          mean_change_tol=0.001, n_components=7, n_jobs=None,\n",
              "                          perp_tol=0.1, random_state=42, topic_word_prior=None,\n",
              "                          total_samples=1000000.0, verbose=0)"
            ]
          },
          "metadata": {
            "tags": []
          },
          "execution_count": 52
        }
      ]
    },
    {
      "cell_type": "code",
      "metadata": {
        "id": "Cykq3jxc5o60",
        "colab_type": "code",
        "colab": {
          "base_uri": "https://localhost:8080/",
          "height": 493
        },
        "outputId": "28c4af4a-d8a7-4a28-f44a-7c992a10747a"
      },
      "source": [
        "for index, topic in enumerate(lda.components_):\n",
        "    print(f'Top 15 words for Topic #{index}')\n",
        "    print([cv.get_feature_names()[i] for i in topic.argsort()[-15:]])\n",
        "    print('\\n')"
      ],
      "execution_count": 53,
      "outputs": [
        {
          "output_type": "stream",
          "text": [
            "Top 15 words for Topic #0\n",
            "['price', 'grandson', 'purchased', 'gift', 'son', 'kids', 'daughter', 'love', 'games', 'year', 'bought', 'old', 'tablet', 'loves', 'great']\n",
            "\n",
            "\n",
            "Top 15 words for Topic #1\n",
            "['speaker', 'screen', 'plus', 'video', 'like', 'smart', 'amazon', 'sound', 'use', 'home', 'love', 'music', 'great', 'alexa', 'echo']\n",
            "\n",
            "\n",
            "Top 15 words for Topic #2\n",
            "['love', 'life', 'really', 'size', 'book', 'light', 'like', 'reading', 'battery', 'just', 'screen', 'good', 'books', 'kindle', 'read']\n",
            "\n",
            "\n",
            "Top 15 words for Topic #3\n",
            "['know', 'app', 'tablets', 'time', 'buy', 'prime', 'use', 'apps', 'best', 'device', 'love', 'bought', 'kids', 'tablet', 'amazon']\n",
            "\n",
            "\n",
            "Top 15 words for Topic #4\n",
            "['better', 'little', 'got', 'christmas', 'works', 'like', 'bought', 'amazon', 'gift', 'recommend', 'price', 'good', 'product', 'great', 'tablet']\n",
            "\n",
            "\n",
            "Top 15 words for Topic #5\n",
            "['perfect', 'amazon', 'need', 'good', 'bought', 'play', 'product', 'kids', 'set', 'apps', 'love', 'great', 'tablet', 'use', 'easy']\n",
            "\n",
            "\n",
            "Top 15 words for Topic #6\n",
            "['generation', 'older', 'version', 've', 'amazon', 'buy', 'price', 'better', 'new', 'reading', 'great', 'best', 'love', 'tablet', 'kindle']\n",
            "\n",
            "\n"
          ],
          "name": "stdout"
        }
      ]
    },
    {
      "cell_type": "code",
      "metadata": {
        "id": "X7-tq3gM7JVg",
        "colab_type": "code",
        "colab": {
          "base_uri": "https://localhost:8080/",
          "height": 136
        },
        "outputId": "613a030f-3d93-4d0a-ba23-d4c1f4e6d923"
      },
      "source": [
        "# Use scikit-learn provided Non-Negative Matrix Factorization (NMF)\n",
        "model_nmf = NMF(n_components=2, init='random', random_state=0)\n",
        "model_nmf.fit_transform(df)"
      ],
      "execution_count": 57,
      "outputs": [
        {
          "output_type": "execute_result",
          "data": {
            "text/plain": [
              "array([[0.00064713, 0.00204017],\n",
              "       [0.33187535, 0.        ],\n",
              "       [0.21425039, 0.02937324],\n",
              "       ...,\n",
              "       [0.1958453 , 0.07232311],\n",
              "       [0.09831357, 0.03032576],\n",
              "       [0.04561546, 0.        ]])"
            ]
          },
          "metadata": {
            "tags": []
          },
          "execution_count": 57
        }
      ]
    },
    {
      "cell_type": "code",
      "metadata": {
        "id": "jMs54fHH7LWp",
        "colab_type": "code",
        "colab": {
          "base_uri": "https://localhost:8080/",
          "height": 153
        },
        "outputId": "ae81f200-a904-43ec-bae1-e2b13123dd0f"
      },
      "source": [
        "for index, topic in enumerate(model_nmf.components_):\n",
        "    print(f'Top 15 words for Topic #{index}')\n",
        "    print([cv.get_feature_names()[i] for i in topic.argsort()[-15:]])\n",
        "    print('\\n')"
      ],
      "execution_count": 58,
      "outputs": [
        {
          "output_type": "stream",
          "text": [
            "Top 15 words for Topic #0\n",
            "['love', 'like', 'just', 'home', 'good', 'music', 'app', 'echo', 'apps', 'screen', 'great', 'use', 'device', 'amazon', 'tablet']\n",
            "\n",
            "\n",
            "Top 15 words for Topic #1\n",
            "['time', 'easy', 'light', 'battery', 'just', 'äôm', 'cover', 'reading', 'bought', 'book', 'äôt', 'oasis', 'read', 'charge', 'kindle']\n",
            "\n",
            "\n"
          ],
          "name": "stdout"
        }
      ]
    }
  ]
}